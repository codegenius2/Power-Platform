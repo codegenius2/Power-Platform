{
  "cells": [
    {
      "cell_type": "code",
      "source": [
        "# Installing required python packages\r\n",
        "!python -m pip install --upgrade pip==21.0.1 setuptools==53.0.0\r\n",
        "!pip install --force --extra-index-url https://test.pypi.org/simple/ aibuilder"
      ],
      "outputs": [],
      "execution_count": null,
      "metadata": {
        "gather": {
          "logged": 1618955337677
        }
      }
    },
    {
      "cell_type": "code",
      "source": [
        "# The name of the Power Platform environment where you are registering the model\r\n",
        "aib_environment = ''  # Enter your Power Platform environment friendly name\r\n",
        "\r\n",
        "# The name of the model endpoint to be created in AzureML\r\n",
        "aci_service_name = 'pneumonia-detection-onnx' \r\n",
        "\r\n",
        "# The name of the model as it will appear in AI Builder\r\n",
        "aib_model_name = \"pneumonia-detection-v1\""
      ],
      "outputs": [],
      "execution_count": null,
      "metadata": {
        "collapsed": true,
        "jupyter": {
          "source_hidden": false,
          "outputs_hidden": false
        },
        "nteract": {
          "transient": {
            "deleting": false
          }
        },
        "gather": {
          "logged": 1618956060283
        }
      }
    },
    {
      "cell_type": "code",
      "source": [
        "from azureml.core import Workspace\r\n",
        "\r\n",
        "ws = Workspace.from_config()\r\n",
        "\r\n",
        "print(ws.name, ws.resource_group, ws.location, ws.subscription_id, sep = '\\n')"
      ],
      "outputs": [],
      "execution_count": null,
      "metadata": {
        "collapsed": true,
        "jupyter": {
          "source_hidden": false,
          "outputs_hidden": false
        },
        "nteract": {
          "transient": {
            "deleting": false
          }
        },
        "gather": {
          "logged": 1618956064502
        }
      }
    },
    {
      "cell_type": "code",
      "source": [
        "from azureml.core.webservice import AciWebservice, Webservice\r\n",
        "from azureml.exceptions import WebserviceException\r\n",
        "\r\n",
        "try:\r\n",
        "    service = Webservice(ws, name=aci_service_name)\r\n",
        "except WebserviceException as e:\r\n",
        "    print(f\"Service not found: {aci_service_name}\")\r\n",
        "\r\n",
        "print(service.state)"
      ],
      "outputs": [],
      "execution_count": null,
      "metadata": {
        "collapsed": true,
        "jupyter": {
          "source_hidden": false,
          "outputs_hidden": false
        },
        "nteract": {
          "transient": {
            "deleting": false
          }
        },
        "gather": {
          "logged": 1618956066328
        }
      }
    },
    {
      "cell_type": "code",
      "source": [
        "# Print Swagger URI to validate that service deployment was successful \r\n",
        "print(f\"Model swagger URI: {service.swagger_uri}\")"
      ],
      "outputs": [],
      "execution_count": null,
      "metadata": {
        "collapsed": true,
        "jupyter": {
          "source_hidden": false,
          "outputs_hidden": false
        },
        "nteract": {
          "transient": {
            "deleting": false
          }
        },
        "gather": {
          "logged": 1618956068320
        }
      }
    },
    {
      "cell_type": "code",
      "source": [
        "# Login using PowerApps credentials and register a model with AI Builder\r\n",
        "from aibuilder.core.environment import Environment\r\n",
        "from aibuilder.models.constants import ModelClientResponseStatus\r\n",
        "\r\n",
        "env = Environment.get(environment_name=aib_environment)\r\n",
        "\r\n",
        "response = env.register_model(model_name=aib_model_name, connection=service, override=True)\r\n",
        "\r\n",
        "if response != ModelClientResponseStatus.success:\r\n",
        "    raise Exception('Model registration failed')\r\n",
        "\r\n",
        "print(f\"Registered AI Builder model {aib_model_name}\")"
      ],
      "outputs": [],
      "execution_count": null,
      "metadata": {
        "collapsed": true,
        "jupyter": {
          "source_hidden": false,
          "outputs_hidden": false
        },
        "nteract": {
          "transient": {
            "deleting": false
          }
        },
        "gather": {
          "logged": 1618956107238
        }
      }
    }
  ],
  "metadata": {
    "kernelspec": {
      "name": "python3-azureml",
      "language": "python",
      "display_name": "Python 3.6 - AzureML"
    },
    "language_info": {
      "name": "python",
      "version": "3.6.9",
      "mimetype": "text/x-python",
      "codemirror_mode": {
        "name": "ipython",
        "version": 3
      },
      "pygments_lexer": "ipython3",
      "nbconvert_exporter": "python",
      "file_extension": ".py"
    },
    "kernel_info": {
      "name": "python3-azureml"
    },
    "nteract": {
      "version": "nteract-front-end@1.0.0"
    },
    "microsoft": {
      "host": {
        "AzureML": {
          "notebookHasBeenCompleted": true
        }
      }
    }
  },
  "nbformat": 4,
  "nbformat_minor": 2
}