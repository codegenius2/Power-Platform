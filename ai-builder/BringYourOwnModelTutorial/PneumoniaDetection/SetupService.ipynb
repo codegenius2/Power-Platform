{
  "cells": [
    {
      "cell_type": "code",
      "source": [
        "# Imports\r\n",
        "import base64\r\n",
        "import json\r\n",
        "import os\r\n",
        "\r\n",
        "import requests\r\n",
        "import azureml.core\r\n",
        "from azureml.core import Workspace\r\n",
        "from azureml.core.model import Model\r\n",
        "from azureml.core.model import InferenceConfig\r\n",
        "from azureml.core import Environment\r\n",
        "\r\n",
        "from azureml.core.webservice import AciWebservice, Webservice\r\n",
        "from azureml.exceptions import WebserviceException\r\n"
      ],
      "outputs": [],
      "execution_count": null,
      "metadata": {
        "collapsed": true,
        "jupyter": {
          "source_hidden": false,
          "outputs_hidden": false
        },
        "nteract": {
          "transient": {
            "deleting": false
          }
        },
        "gather": {
          "logged": 1618956015781
        }
      }
    },
    {
      "cell_type": "code",
      "source": [
        "# The name of the model as it will appear in AzureML\r\n",
        "aml_model_name = 'PneumoniaDetection-secure'  # Updating this requires an update to score.py\r\n",
        "\r\n",
        "# The name of the model endpoint to be created in AzureML\r\n",
        "aci_service_name = 'pneumonia-detection-onnx' \r\n",
        "\r\n",
        "# The name of the model as it will appear in AI Builder\r\n",
        "aib_model_name = \"pneumonia-detection-v1\"\r\n",
        "\r\n",
        "# The local path of the parent of the model directory\r\n",
        "model_path = '.'  \r\n",
        "\r\n",
        "is_secure = True"
      ],
      "outputs": [],
      "execution_count": null,
      "metadata": {
        "collapsed": true,
        "jupyter": {
          "source_hidden": false,
          "outputs_hidden": false
        },
        "nteract": {
          "transient": {
            "deleting": false
          }
        },
        "gather": {
          "logged": 1618956015958
        }
      }
    },
    {
      "cell_type": "code",
      "source": [
        "ws = Workspace.from_config()"
      ],
      "outputs": [],
      "execution_count": null,
      "metadata": {
        "collapsed": true,
        "jupyter": {
          "source_hidden": false,
          "outputs_hidden": false
        },
        "nteract": {
          "transient": {
            "deleting": false
          }
        },
        "gather": {
          "logged": 1618956016602
        }
      }
    },
    {
      "cell_type": "code",
      "source": [
        "# Register an AML MOdel\r\n",
        "model_root = os.path.join(model_path, './model')\r\n",
        "model = Model.register(workspace=ws,\r\n",
        "                       model_path=model_root, \r\n",
        "                       model_name=aml_model_name, \r\n",
        "                       tags={'area': \"image\", 'type': \"classification\"}, \r\n",
        "                       )\r\n",
        "\r\n",
        "print(f\"Registered model {model.name}, Version {model.version}\")"
      ],
      "outputs": [],
      "execution_count": null,
      "metadata": {
        "collapsed": true,
        "jupyter": {
          "source_hidden": false,
          "outputs_hidden": false
        },
        "nteract": {
          "transient": {
            "deleting": false
          }
        },
        "gather": {
          "logged": 1618956022224
        }
      }
    },
    {
      "cell_type": "code",
      "source": [
        "#Creating an inference configuration\r\n",
        "\r\n",
        "entry_script = os.path.join(model_root, \"score.py\")\r\n",
        "conda_file = os.path.join(model_root, \"myenv.yml\")\r\n",
        "\r\n",
        "inference_config = InferenceConfig(runtime=\"python\", \r\n",
        "                                   entry_script=entry_script,\r\n",
        "                                   conda_file=conda_file)"
      ],
      "outputs": [],
      "execution_count": null,
      "metadata": {
        "collapsed": true,
        "jupyter": {
          "source_hidden": false,
          "outputs_hidden": false
        },
        "nteract": {
          "transient": {
            "deleting": false
          }
        },
        "gather": {
          "logged": 1618956022371
        }
      }
    },
    {
      "cell_type": "code",
      "source": [
        "service = None\r\n",
        "\r\n",
        "try:\r\n",
        "    # get any existing service with the specified name \r\n",
        "    service = Webservice(ws, name=aci_service_name)\r\n",
        "except WebserviceException as e:\r\n",
        "    print(f\"Webservice not found: {aci_service_name}\")\r\n",
        "\r\n",
        "# Update the service with the new model if the service exists, otherwise deploy a new service\r\n",
        "if service:\r\n",
        "    print (f\"Updating service {aci_service_name}\")\r\n",
        "    model = Model(workspace=ws, name=aml_model_name)\r\n",
        "    service.update(models=[model], inference_config=inference_config, auth_enabled=is_secure)\r\n",
        "else:\r\n",
        "    print (f\"Deploying new service {aci_service_name}\")\r\n",
        "    deployment_config = AciWebservice.deploy_configuration(cpu_cores = 2, memory_gb = 2, auth_enabled=is_secure)\r\n",
        "    service = Model.deploy(ws, aci_service_name, [model], inference_config, deployment_config)\r\n",
        "\r\n",
        "service.wait_for_deployment(True)\r\n",
        "print(service.state)"
      ],
      "outputs": [],
      "execution_count": null,
      "metadata": {
        "collapsed": true,
        "jupyter": {
          "source_hidden": false,
          "outputs_hidden": false
        },
        "nteract": {
          "transient": {
            "deleting": false
          }
        },
        "gather": {
          "logged": 1618956050147
        }
      }
    },
    {
      "cell_type": "code",
      "source": [
        "#validate service using response \r\n",
        "service = Webservice(ws, name=aci_service_name)\r\n",
        "uri = service.scoring_uri\r\n",
        "image_path = './TestData/test_1.jpeg'\r\n",
        "api_key = service.get_keys()[0] # Replace this with the API key for the web service\r\n",
        "headers = {'Content-Type':'application/json', 'Authorization':('Bearer '+ api_key)}\r\n",
        "\r\n",
        "with open(image_path, \"rb\") as image_file:\r\n",
        "    encoded_string = base64.b64encode(image_file.read()).decode('utf-8')\r\n",
        "\r\n",
        "    request_body = [{'image': encoded_string}]\r\n",
        "\r\n",
        "    request_data = json.dumps({'request': request_body})\r\n",
        "    response = requests.post(uri, headers=headers, data=request_data)\r\n",
        "    print(response.text)"
      ],
      "outputs": [],
      "execution_count": null,
      "metadata": {
        "collapsed": true,
        "jupyter": {
          "source_hidden": false,
          "outputs_hidden": false
        },
        "nteract": {
          "transient": {
            "deleting": false
          }
        },
        "gather": {
          "logged": 1618956051130
        }
      }
    }
  ],
  "metadata": {
    "kernelspec": {
      "name": "python3-azureml",
      "language": "python",
      "display_name": "Python 3.6 - AzureML"
    },
    "language_info": {
      "name": "python",
      "version": "3.6.9",
      "mimetype": "text/x-python",
      "codemirror_mode": {
        "name": "ipython",
        "version": 3
      },
      "pygments_lexer": "ipython3",
      "nbconvert_exporter": "python",
      "file_extension": ".py"
    },
    "kernel_info": {
      "name": "python3-azureml"
    },
    "nteract": {
      "version": "nteract-front-end@1.0.0"
    },
    "microsoft": {
      "host": {
        "AzureML": {
          "notebookHasBeenCompleted": true
        }
      }
    }
  },
  "nbformat": 4,
  "nbformat_minor": 2
}